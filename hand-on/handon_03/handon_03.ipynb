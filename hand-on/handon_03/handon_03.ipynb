{
 "cells": [
  {
   "cell_type": "code",
   "execution_count": 1,
   "metadata": {},
   "outputs": [],
   "source": [
    "import numpy as np\n",
    "from scipy.sparse import coo_matrix, csr_matrix, csc_matrix, dok_matrix, lil_matrix"
   ]
  },
  {
   "cell_type": "code",
   "execution_count": 2,
   "metadata": {},
   "outputs": [
    {
     "data": {
      "text/plain": [
       "array([[1, 0, 0, 1, 0, 0],\n",
       "       [0, 0, 2, 0, 0, 1],\n",
       "       [0, 0, 0, 2, 0, 0]])"
      ]
     },
     "execution_count": 2,
     "metadata": {},
     "output_type": "execute_result"
    }
   ],
   "source": [
    "A = np.array([[1, 0, 0, 1, 0, 0], [0, 0, 2, 0, 0, 1], [0, 0, 0, 2, 0, 0]])\n",
    "A"
   ]
  },
  {
   "cell_type": "code",
   "execution_count": 3,
   "metadata": {},
   "outputs": [
    {
     "name": "stdout",
     "output_type": "stream",
     "text": [
      "  (0, 0)\t1\n",
      "  (0, 3)\t1\n",
      "  (1, 2)\t2\n",
      "  (1, 5)\t1\n",
      "  (2, 3)\t2\n"
     ]
    }
   ],
   "source": [
    "S = coo_matrix(A)\n",
    "print(S)"
   ]
  },
  {
   "cell_type": "code",
   "execution_count": 4,
   "metadata": {},
   "outputs": [
    {
     "name": "stdout",
     "output_type": "stream",
     "text": [
      "  (0, 0)\t1\n",
      "  (2, 0)\t2\n"
     ]
    }
   ],
   "source": [
    "print(S.tocsr()[:, 3])"
   ]
  },
  {
   "cell_type": "code",
   "execution_count": 5,
   "metadata": {},
   "outputs": [
    {
     "data": {
      "text/plain": [
       "matrix([[1, 0, 0, 1, 0, 0],\n",
       "        [0, 0, 2, 0, 0, 1],\n",
       "        [0, 0, 0, 2, 0, 0]])"
      ]
     },
     "execution_count": 5,
     "metadata": {},
     "output_type": "execute_result"
    }
   ],
   "source": [
    "B = S.todense()\n",
    "B"
   ]
  },
  {
   "cell_type": "code",
   "execution_count": 6,
   "metadata": {},
   "outputs": [
    {
     "name": "stdout",
     "output_type": "stream",
     "text": [
      "dok_matrix(): 7.590072996001254e-05\n",
      "lil_matrix(): 9.584405008998146e-05\n",
      "csr_matrix(): 7.660926609998569e-05\n",
      "csc_matrix(): 7.152801559001091e-05\n"
     ]
    }
   ],
   "source": [
    "import timeit\n",
    "\n",
    "times = 100000\n",
    "dok_timeit = timeit.timeit(lambda: dok_matrix(B), number=times) / times\n",
    "print(\"dok_matrix():\", dok_timeit)\n",
    "\n",
    "lil_timeit = timeit.timeit(lambda: lil_matrix(B), number=times) / times\n",
    "print(\"lil_matrix():\", lil_timeit)\n",
    "\n",
    "csr_timeit = timeit.timeit(lambda: csr_matrix(B), number=times) / times\n",
    "print(\"csr_matrix():\", csr_timeit)\n",
    "\n",
    "csc_timeit = timeit.timeit(lambda: csc_matrix(B), number=times) / times\n",
    "print(\"csc_matrix():\", csc_timeit)"
   ]
  },
  {
   "cell_type": "code",
   "execution_count": 7,
   "metadata": {},
   "outputs": [],
   "source": [
    "import pandas as pd\n",
    "import string\n",
    "\n",
    "def get_and_clean_data() -> pd.DataFrame:\n",
    "    data = pd.read_csv(\"../../data/software_development_usa.csv\")\n",
    "    description = data[\"job_description\"]\n",
    "    cleaned_description = description.apply(\n",
    "        lambda s: s.translate(str.maketrans(\"\", \"\", string.punctuation + \"\\xa0\"))\n",
    "    )\n",
    "    cleaned_description = cleaned_description.apply(lambda s: s.lower())\n",
    "    cleaned_description = cleaned_description.apply(\n",
    "        lambda s: s.translate(\n",
    "            str.maketrans(string.whitespace, \" \" * len(string.whitespace), \"\")\n",
    "        )\n",
    "    )\n",
    "    cleaned_description = cleaned_description.drop_duplicates()\n",
    "    return cleaned_description"
   ]
  },
  {
   "cell_type": "code",
   "execution_count": 8,
   "metadata": {},
   "outputs": [
    {
     "name": "stderr",
     "output_type": "stream",
     "text": [
      "/tmp/ipykernel_3738/2979533673.py:4: FutureWarning: The behavior of `series[i:j]` with an integer-dtype index is deprecated. In a future version, this will be treated as *label-based* indexing, consistent with e.g. `series[i]` lookups. To retain the old behavior, use `series.iloc[i:j]`. To get the future behavior, use `series.loc[i:j]`.\n",
      "  cleaned_description = get_and_clean_data()[:1000]\n"
     ]
    },
    {
     "data": {
      "text/plain": [
       "0       the chosen sr software developer will be part ...\n",
       "1       position c lead software developer location mi...\n",
       "2       senior software developer hoboken nj starts as...\n",
       "3       our client a multinational publishing and educ...\n",
       "4       position c lead software developer location ph...\n",
       "                              ...                        \n",
       "1230    job summary software developer ruby on rails c...\n",
       "1231    globalstar seeks a software developer to join ...\n",
       "1232     software engineer services rockstar level exp...\n",
       "1233    job title lead software developertechnical pm ...\n",
       "1234    ref id classification software engineer compen...\n",
       "Name: job_description, Length: 1000, dtype: object"
      ]
     },
     "execution_count": 8,
     "metadata": {},
     "output_type": "execute_result"
    }
   ],
   "source": [
    "from ordered_set import OrderedSet\n",
    "import re\n",
    "\n",
    "cleaned_description = get_and_clean_data()[:1000]\n",
    "cleaned_description = cleaned_description.apply(lambda s: re.sub(r'[^A-Za-z]', ' ', s))\n",
    "cleaned_description = cleaned_description.apply(lambda s: re.sub(r'\\s+', ' ', s))\n",
    "cleaned_description"
   ]
  },
  {
   "cell_type": "code",
   "execution_count": 9,
   "metadata": {},
   "outputs": [
    {
     "data": {
      "text/plain": [
       "0       [the, chosen, sr, software, developer, will, b...\n",
       "1       [position, c, lead, software, developer, locat...\n",
       "2       [senior, software, developer, hoboken, nj, sta...\n",
       "3       [our, client, a, multinational, publishing, an...\n",
       "4       [position, c, lead, software, developer, locat...\n",
       "                              ...                        \n",
       "1230    [job, summary, software, developer, ruby, on, ...\n",
       "1231    [globalstar, seeks, a, software, developer, to...\n",
       "1232    [software, engineer, services, rockstar, level...\n",
       "1233    [job, title, lead, software, developertechnica...\n",
       "1234    [ref, id, classification, software, engineer, ...\n",
       "Name: job_description, Length: 1000, dtype: object"
      ]
     },
     "execution_count": 9,
     "metadata": {},
     "output_type": "execute_result"
    }
   ],
   "source": [
    "from nltk import word_tokenize\n",
    "\n",
    "tokenized_description = cleaned_description.apply(lambda s: word_tokenize(s))\n",
    "tokenized_description"
   ]
  },
  {
   "cell_type": "code",
   "execution_count": 10,
   "metadata": {},
   "outputs": [
    {
     "name": "stderr",
     "output_type": "stream",
     "text": [
      "[nltk_data] Downloading package stopwords to\n",
      "[nltk_data]     /home/tkthanatorn/nltk_data...\n",
      "[nltk_data]   Package stopwords is already up-to-date!\n"
     ]
    },
    {
     "data": {
      "text/plain": [
       "0       [chosen, software, developer, part, larger, en...\n",
       "1       [position, lead, software, developer, location...\n",
       "2       [senior, software, developer, hoboken, starts,...\n",
       "3       [client, multinational, publishing, education,...\n",
       "4       [position, lead, software, developer, location...\n",
       "                              ...                        \n",
       "1230    [job, summary, software, developer, ruby, rail...\n",
       "1231    [globalstar, seeks, software, developer, join,...\n",
       "1232    [software, engineer, services, rockstar, level...\n",
       "1233    [job, title, lead, software, developertechnica...\n",
       "1234    [ref, classification, software, engineer, comp...\n",
       "Name: job_description, Length: 1000, dtype: object"
      ]
     },
     "execution_count": 10,
     "metadata": {},
     "output_type": "execute_result"
    }
   ],
   "source": [
    "import nltk\n",
    "nltk.download([\"stopwords\"])\n",
    "from nltk.corpus import stopwords\n",
    "\n",
    "stop_dict = set(stopwords.words())\n",
    "sw_removed_description = tokenized_description.apply(lambda s: list(OrderedSet(s) - stop_dict))\n",
    "sw_removed_description = sw_removed_description.apply(lambda s: [word for word in s if len(word) > 2])\n",
    "sw_removed_description"
   ]
  },
  {
   "cell_type": "code",
   "execution_count": 11,
   "metadata": {},
   "outputs": [
    {
     "data": {
      "text/plain": [
       "0       [chosen, softwar, develop, part, larger, engin...\n",
       "1       [posit, lead, softwar, develop, locat, middlet...\n",
       "2       [senior, softwar, develop, hoboken, start, mon...\n",
       "3       [client, multin, publish, educ, compani, seek,...\n",
       "4       [posit, lead, softwar, develop, locat, philade...\n",
       "                              ...                        \n",
       "1230    [job, summari, softwar, develop, rubi, rail, c...\n",
       "1231    [globalstar, seek, softwar, develop, join, tea...\n",
       "1232    [softwar, engin, servic, rockstar, level, expe...\n",
       "1233    [job, titl, lead, softwar, developertechn, net...\n",
       "1234    [ref, classif, softwar, engin, compens, year, ...\n",
       "Name: job_description, Length: 1000, dtype: object"
      ]
     },
     "execution_count": 11,
     "metadata": {},
     "output_type": "execute_result"
    }
   ],
   "source": [
    "from nltk import PorterStemmer\n",
    "\n",
    "concated = np.unique(np.concatenate([s for s in tokenized_description.values]))\n",
    "stem_cache = {}\n",
    "ps = PorterStemmer() \n",
    "for s in concated:\n",
    "    stem_cache[s] = ps.stem(s)\n",
    "\n",
    "stemmed_description = sw_removed_description.apply(lambda s: [stem_cache[w] for w in s])\n",
    "stemmed_description"
   ]
  },
  {
   "cell_type": "code",
   "execution_count": 12,
   "metadata": {},
   "outputs": [
    {
     "data": {
      "text/html": [
       "<div>\n",
       "<style scoped>\n",
       "    .dataframe tbody tr th:only-of-type {\n",
       "        vertical-align: middle;\n",
       "    }\n",
       "\n",
       "    .dataframe tbody tr th {\n",
       "        vertical-align: top;\n",
       "    }\n",
       "\n",
       "    .dataframe thead th {\n",
       "        text-align: right;\n",
       "    }\n",
       "</style>\n",
       "<table border=\"1\" class=\"dataframe\">\n",
       "  <thead>\n",
       "    <tr style=\"text-align: right;\">\n",
       "      <th></th>\n",
       "      <th>aa</th>\n",
       "      <th>aaa</th>\n",
       "      <th>aadairstrategicstaffcom</th>\n",
       "      <th>aaeeo</th>\n",
       "      <th>aampt</th>\n",
       "      <th>aapeeo</th>\n",
       "      <th>aau</th>\n",
       "      <th>ab</th>\n",
       "      <th>abap</th>\n",
       "      <th>abapworkflow</th>\n",
       "      <th>...</th>\n",
       "      <th>zeromq</th>\n",
       "      <th>zigbe</th>\n",
       "      <th>zip</th>\n",
       "      <th>zipkin</th>\n",
       "      <th>zone</th>\n",
       "      <th>zookeep</th>\n",
       "      <th>zoom</th>\n",
       "      <th>zumba</th>\n",
       "      <th>zuora</th>\n",
       "      <th>zuul</th>\n",
       "    </tr>\n",
       "  </thead>\n",
       "  <tbody>\n",
       "    <tr>\n",
       "      <th>0</th>\n",
       "      <td>0</td>\n",
       "      <td>0</td>\n",
       "      <td>0</td>\n",
       "      <td>0</td>\n",
       "      <td>0</td>\n",
       "      <td>0</td>\n",
       "      <td>0</td>\n",
       "      <td>0</td>\n",
       "      <td>0</td>\n",
       "      <td>0</td>\n",
       "      <td>...</td>\n",
       "      <td>0</td>\n",
       "      <td>0</td>\n",
       "      <td>0</td>\n",
       "      <td>0</td>\n",
       "      <td>0</td>\n",
       "      <td>0</td>\n",
       "      <td>0</td>\n",
       "      <td>0</td>\n",
       "      <td>0</td>\n",
       "      <td>0</td>\n",
       "    </tr>\n",
       "    <tr>\n",
       "      <th>1</th>\n",
       "      <td>0</td>\n",
       "      <td>0</td>\n",
       "      <td>0</td>\n",
       "      <td>0</td>\n",
       "      <td>0</td>\n",
       "      <td>0</td>\n",
       "      <td>0</td>\n",
       "      <td>0</td>\n",
       "      <td>0</td>\n",
       "      <td>0</td>\n",
       "      <td>...</td>\n",
       "      <td>0</td>\n",
       "      <td>0</td>\n",
       "      <td>0</td>\n",
       "      <td>0</td>\n",
       "      <td>0</td>\n",
       "      <td>0</td>\n",
       "      <td>0</td>\n",
       "      <td>0</td>\n",
       "      <td>0</td>\n",
       "      <td>0</td>\n",
       "    </tr>\n",
       "    <tr>\n",
       "      <th>2</th>\n",
       "      <td>0</td>\n",
       "      <td>0</td>\n",
       "      <td>0</td>\n",
       "      <td>0</td>\n",
       "      <td>0</td>\n",
       "      <td>0</td>\n",
       "      <td>0</td>\n",
       "      <td>0</td>\n",
       "      <td>0</td>\n",
       "      <td>0</td>\n",
       "      <td>...</td>\n",
       "      <td>0</td>\n",
       "      <td>0</td>\n",
       "      <td>0</td>\n",
       "      <td>0</td>\n",
       "      <td>0</td>\n",
       "      <td>0</td>\n",
       "      <td>0</td>\n",
       "      <td>0</td>\n",
       "      <td>0</td>\n",
       "      <td>0</td>\n",
       "    </tr>\n",
       "    <tr>\n",
       "      <th>3</th>\n",
       "      <td>0</td>\n",
       "      <td>0</td>\n",
       "      <td>0</td>\n",
       "      <td>0</td>\n",
       "      <td>0</td>\n",
       "      <td>0</td>\n",
       "      <td>0</td>\n",
       "      <td>0</td>\n",
       "      <td>0</td>\n",
       "      <td>0</td>\n",
       "      <td>...</td>\n",
       "      <td>0</td>\n",
       "      <td>0</td>\n",
       "      <td>0</td>\n",
       "      <td>0</td>\n",
       "      <td>0</td>\n",
       "      <td>0</td>\n",
       "      <td>0</td>\n",
       "      <td>0</td>\n",
       "      <td>0</td>\n",
       "      <td>0</td>\n",
       "    </tr>\n",
       "    <tr>\n",
       "      <th>4</th>\n",
       "      <td>0</td>\n",
       "      <td>0</td>\n",
       "      <td>0</td>\n",
       "      <td>0</td>\n",
       "      <td>0</td>\n",
       "      <td>0</td>\n",
       "      <td>0</td>\n",
       "      <td>0</td>\n",
       "      <td>0</td>\n",
       "      <td>0</td>\n",
       "      <td>...</td>\n",
       "      <td>0</td>\n",
       "      <td>0</td>\n",
       "      <td>0</td>\n",
       "      <td>0</td>\n",
       "      <td>0</td>\n",
       "      <td>0</td>\n",
       "      <td>0</td>\n",
       "      <td>0</td>\n",
       "      <td>0</td>\n",
       "      <td>0</td>\n",
       "    </tr>\n",
       "    <tr>\n",
       "      <th>...</th>\n",
       "      <td>...</td>\n",
       "      <td>...</td>\n",
       "      <td>...</td>\n",
       "      <td>...</td>\n",
       "      <td>...</td>\n",
       "      <td>...</td>\n",
       "      <td>...</td>\n",
       "      <td>...</td>\n",
       "      <td>...</td>\n",
       "      <td>...</td>\n",
       "      <td>...</td>\n",
       "      <td>...</td>\n",
       "      <td>...</td>\n",
       "      <td>...</td>\n",
       "      <td>...</td>\n",
       "      <td>...</td>\n",
       "      <td>...</td>\n",
       "      <td>...</td>\n",
       "      <td>...</td>\n",
       "      <td>...</td>\n",
       "      <td>...</td>\n",
       "    </tr>\n",
       "    <tr>\n",
       "      <th>995</th>\n",
       "      <td>0</td>\n",
       "      <td>0</td>\n",
       "      <td>0</td>\n",
       "      <td>0</td>\n",
       "      <td>0</td>\n",
       "      <td>0</td>\n",
       "      <td>0</td>\n",
       "      <td>0</td>\n",
       "      <td>0</td>\n",
       "      <td>0</td>\n",
       "      <td>...</td>\n",
       "      <td>0</td>\n",
       "      <td>0</td>\n",
       "      <td>0</td>\n",
       "      <td>0</td>\n",
       "      <td>0</td>\n",
       "      <td>0</td>\n",
       "      <td>0</td>\n",
       "      <td>0</td>\n",
       "      <td>0</td>\n",
       "      <td>0</td>\n",
       "    </tr>\n",
       "    <tr>\n",
       "      <th>996</th>\n",
       "      <td>0</td>\n",
       "      <td>0</td>\n",
       "      <td>0</td>\n",
       "      <td>0</td>\n",
       "      <td>0</td>\n",
       "      <td>0</td>\n",
       "      <td>0</td>\n",
       "      <td>0</td>\n",
       "      <td>0</td>\n",
       "      <td>0</td>\n",
       "      <td>...</td>\n",
       "      <td>0</td>\n",
       "      <td>0</td>\n",
       "      <td>0</td>\n",
       "      <td>0</td>\n",
       "      <td>0</td>\n",
       "      <td>0</td>\n",
       "      <td>0</td>\n",
       "      <td>0</td>\n",
       "      <td>0</td>\n",
       "      <td>0</td>\n",
       "    </tr>\n",
       "    <tr>\n",
       "      <th>997</th>\n",
       "      <td>0</td>\n",
       "      <td>0</td>\n",
       "      <td>0</td>\n",
       "      <td>0</td>\n",
       "      <td>0</td>\n",
       "      <td>0</td>\n",
       "      <td>0</td>\n",
       "      <td>0</td>\n",
       "      <td>0</td>\n",
       "      <td>0</td>\n",
       "      <td>...</td>\n",
       "      <td>0</td>\n",
       "      <td>0</td>\n",
       "      <td>0</td>\n",
       "      <td>0</td>\n",
       "      <td>0</td>\n",
       "      <td>0</td>\n",
       "      <td>0</td>\n",
       "      <td>0</td>\n",
       "      <td>0</td>\n",
       "      <td>0</td>\n",
       "    </tr>\n",
       "    <tr>\n",
       "      <th>998</th>\n",
       "      <td>0</td>\n",
       "      <td>0</td>\n",
       "      <td>0</td>\n",
       "      <td>0</td>\n",
       "      <td>0</td>\n",
       "      <td>0</td>\n",
       "      <td>0</td>\n",
       "      <td>0</td>\n",
       "      <td>0</td>\n",
       "      <td>0</td>\n",
       "      <td>...</td>\n",
       "      <td>0</td>\n",
       "      <td>0</td>\n",
       "      <td>0</td>\n",
       "      <td>0</td>\n",
       "      <td>0</td>\n",
       "      <td>0</td>\n",
       "      <td>0</td>\n",
       "      <td>0</td>\n",
       "      <td>0</td>\n",
       "      <td>0</td>\n",
       "    </tr>\n",
       "    <tr>\n",
       "      <th>999</th>\n",
       "      <td>0</td>\n",
       "      <td>0</td>\n",
       "      <td>0</td>\n",
       "      <td>0</td>\n",
       "      <td>0</td>\n",
       "      <td>0</td>\n",
       "      <td>0</td>\n",
       "      <td>0</td>\n",
       "      <td>0</td>\n",
       "      <td>0</td>\n",
       "      <td>...</td>\n",
       "      <td>0</td>\n",
       "      <td>0</td>\n",
       "      <td>0</td>\n",
       "      <td>0</td>\n",
       "      <td>0</td>\n",
       "      <td>0</td>\n",
       "      <td>0</td>\n",
       "      <td>0</td>\n",
       "      <td>0</td>\n",
       "      <td>0</td>\n",
       "    </tr>\n",
       "  </tbody>\n",
       "</table>\n",
       "<p>1000 rows × 9443 columns</p>\n",
       "</div>"
      ],
      "text/plain": [
       "     aa  aaa  aadairstrategicstaffcom  aaeeo  aampt  aapeeo  aau  ab  abap  \\\n",
       "0     0    0                        0      0      0       0    0   0     0   \n",
       "1     0    0                        0      0      0       0    0   0     0   \n",
       "2     0    0                        0      0      0       0    0   0     0   \n",
       "3     0    0                        0      0      0       0    0   0     0   \n",
       "4     0    0                        0      0      0       0    0   0     0   \n",
       "..   ..  ...                      ...    ...    ...     ...  ...  ..   ...   \n",
       "995   0    0                        0      0      0       0    0   0     0   \n",
       "996   0    0                        0      0      0       0    0   0     0   \n",
       "997   0    0                        0      0      0       0    0   0     0   \n",
       "998   0    0                        0      0      0       0    0   0     0   \n",
       "999   0    0                        0      0      0       0    0   0     0   \n",
       "\n",
       "     abapworkflow  ...  zeromq  zigbe  zip  zipkin  zone  zookeep  zoom  \\\n",
       "0               0  ...       0      0    0       0     0        0     0   \n",
       "1               0  ...       0      0    0       0     0        0     0   \n",
       "2               0  ...       0      0    0       0     0        0     0   \n",
       "3               0  ...       0      0    0       0     0        0     0   \n",
       "4               0  ...       0      0    0       0     0        0     0   \n",
       "..            ...  ...     ...    ...  ...     ...   ...      ...   ...   \n",
       "995             0  ...       0      0    0       0     0        0     0   \n",
       "996             0  ...       0      0    0       0     0        0     0   \n",
       "997             0  ...       0      0    0       0     0        0     0   \n",
       "998             0  ...       0      0    0       0     0        0     0   \n",
       "999             0  ...       0      0    0       0     0        0     0   \n",
       "\n",
       "     zumba  zuora  zuul  \n",
       "0        0      0     0  \n",
       "1        0      0     0  \n",
       "2        0      0     0  \n",
       "3        0      0     0  \n",
       "4        0      0     0  \n",
       "..     ...    ...   ...  \n",
       "995      0      0     0  \n",
       "996      0      0     0  \n",
       "997      0      0     0  \n",
       "998      0      0     0  \n",
       "999      0      0     0  \n",
       "\n",
       "[1000 rows x 9443 columns]"
      ]
     },
     "execution_count": 12,
     "metadata": {},
     "output_type": "execute_result"
    }
   ],
   "source": [
    "from sklearn.feature_extraction.text import CountVectorizer\n",
    "\n",
    "cv = CountVectorizer(analyzer=lambda s: s)\n",
    "vectorizer = cv.fit(stemmed_description)\n",
    "x = vectorizer.transform(stemmed_description)\n",
    "pd.DataFrame(x.toarray(), columns=cv.get_feature_names_out())"
   ]
  },
  {
   "cell_type": "code",
   "execution_count": 13,
   "metadata": {},
   "outputs": [
    {
     "name": "stdout",
     "output_type": "stream",
     "text": [
      "(1000, 1000)\n"
     ]
    },
    {
     "data": {
      "text/plain": [
       "6.496188322002126"
      ]
     },
     "execution_count": 13,
     "metadata": {},
     "output_type": "execute_result"
    }
   ],
   "source": [
    "XX = x.toarray()\n",
    "print(np.shape(np.matmul(x.toarray(), x.toarray().T)))\n",
    "timeit.timeit(lambda: np.matmul(XX, XX.T), number=1)"
   ]
  },
  {
   "cell_type": "code",
   "execution_count": 14,
   "metadata": {},
   "outputs": [
    {
     "name": "stdout",
     "output_type": "stream",
     "text": [
      "matmul(): 6.478815782667273\n",
      "todok(): 0.16677329866555132\n",
      "tolil(): 0.07269233466649894\n",
      "tocoo(): 0.05432471000070412\n",
      "tocsc(): 0.05275651166690901\n"
     ]
    }
   ],
   "source": [
    "stat = timeit.timeit(lambda: np.matmul(XX, XX.T), number=3) / 3\n",
    "print(\"matmul():\", stat)\n",
    "\n",
    "stat = timeit.timeit(lambda: x.todok() * x.T.todok(), number=3) / 3\n",
    "print(\"todok():\", stat)\n",
    "\n",
    "stat = timeit.timeit(lambda: x.tolil() * x.T.tolil(), number=3) / 3\n",
    "print(\"tolil():\", stat)\n",
    "\n",
    "stat = timeit.timeit(lambda: x.tocoo() * x.T.tocoo(), number=3) / 3\n",
    "print(\"tocoo():\", stat)\n",
    "\n",
    "stat = timeit.timeit(lambda: x.tocsc() * x.T.tocsc(), number=3) / 3\n",
    "print(\"tocsc():\", stat)"
   ]
  },
  {
   "cell_type": "code",
   "execution_count": 15,
   "metadata": {},
   "outputs": [],
   "source": [
    "def get_set_list_operation_time(num: int):\n",
    "    cleaned_description = get_and_clean_data()[:num]\n",
    "    cleaned_description = cleaned_description.apply(\n",
    "        lambda s: re.sub(r\"[^A-Za-z]\", \" \", s)\n",
    "    )\n",
    "    cleaned_description = cleaned_description.apply(lambda s: re.sub(r\"\\s+\", \" \", s))\n",
    "    tokenized_description = cleaned_description.apply(lambda s: word_tokenize(s))\n",
    "    stop_dict = set(stopwords.words())\n",
    "\n",
    "    def list_comp():\n",
    "        return tokenized_description.apply(\n",
    "            lambda s: [word for word in s if word not in stop_dict]\n",
    "        )\n",
    "\n",
    "    def set_comp():\n",
    "        return tokenized_description.apply(\n",
    "            lambda s: list(OrderedSet(s) - stop_dict)\n",
    "        )\n",
    "\n",
    "    list_time = timeit.timeit(list_comp, number=1000)\n",
    "    set_time = timeit.timeit(set_comp, number=1000)\n",
    "\n",
    "    return set_time, list_time"
   ]
  },
  {
   "cell_type": "code",
   "execution_count": 16,
   "metadata": {},
   "outputs": [
    {
     "name": "stderr",
     "output_type": "stream",
     "text": [
      "/tmp/ipykernel_3738/946393824.py:2: FutureWarning: The behavior of `series[i:j]` with an integer-dtype index is deprecated. In a future version, this will be treated as *label-based* indexing, consistent with e.g. `series[i]` lookups. To retain the old behavior, use `series.iloc[i:j]`. To get the future behavior, use `series.loc[i:j]`.\n",
      "  cleaned_description = get_and_clean_data()[:num]\n",
      "/tmp/ipykernel_3738/946393824.py:2: FutureWarning: The behavior of `series[i:j]` with an integer-dtype index is deprecated. In a future version, this will be treated as *label-based* indexing, consistent with e.g. `series[i]` lookups. To retain the old behavior, use `series.iloc[i:j]`. To get the future behavior, use `series.loc[i:j]`.\n",
      "  cleaned_description = get_and_clean_data()[:num]\n",
      "/tmp/ipykernel_3738/946393824.py:2: FutureWarning: The behavior of `series[i:j]` with an integer-dtype index is deprecated. In a future version, this will be treated as *label-based* indexing, consistent with e.g. `series[i]` lookups. To retain the old behavior, use `series.iloc[i:j]`. To get the future behavior, use `series.loc[i:j]`.\n",
      "  cleaned_description = get_and_clean_data()[:num]\n",
      "/tmp/ipykernel_3738/946393824.py:2: FutureWarning: The behavior of `series[i:j]` with an integer-dtype index is deprecated. In a future version, this will be treated as *label-based* indexing, consistent with e.g. `series[i]` lookups. To retain the old behavior, use `series.iloc[i:j]`. To get the future behavior, use `series.loc[i:j]`.\n",
      "  cleaned_description = get_and_clean_data()[:num]\n",
      "/tmp/ipykernel_3738/946393824.py:2: FutureWarning: The behavior of `series[i:j]` with an integer-dtype index is deprecated. In a future version, this will be treated as *label-based* indexing, consistent with e.g. `series[i]` lookups. To retain the old behavior, use `series.iloc[i:j]`. To get the future behavior, use `series.loc[i:j]`.\n",
      "  cleaned_description = get_and_clean_data()[:num]\n",
      "/tmp/ipykernel_3738/946393824.py:2: FutureWarning: The behavior of `series[i:j]` with an integer-dtype index is deprecated. In a future version, this will be treated as *label-based* indexing, consistent with e.g. `series[i]` lookups. To retain the old behavior, use `series.iloc[i:j]`. To get the future behavior, use `series.loc[i:j]`.\n",
      "  cleaned_description = get_and_clean_data()[:num]\n"
     ]
    }
   ],
   "source": [
    "import matplotlib.pyplot as plt\n",
    "\n",
    "set_times: list[float] = []\n",
    "list_times: list[float] = []\n",
    "samples = [500, 1000, 1500, 2000, 2500, 3000]\n",
    "for sample in samples:\n",
    "    set_time, list_time = get_set_list_operation_time(sample)\n",
    "    set_times.append(set_time)\n",
    "    list_times.append(list_time)"
   ]
  },
  {
   "cell_type": "code",
   "execution_count": 17,
   "metadata": {},
   "outputs": [
    {
     "data": {
      "image/png": "[encoded data removed]",
      "text/plain": [
       "<Figure size 640x480 with 1 Axes>"
      ]
     },
     "metadata": {},
     "output_type": "display_data"
    }
   ],
   "source": [
    "plt.plot(samples, set_times, label='Set Experiment', marker='o')  \n",
    "plt.plot(samples, list_times, label='List Experiment', marker='x') \n",
    "plt.title(\"Comparison between set & list operation\")\n",
    "plt.xlabel(\"samples\")\n",
    "plt.ylabel(\"elapsed time(s)\")\n",
    "plt.legend()\n",
    "plt.show()"
   ]
  }
 ],
 "metadata": {
  "kernelspec": {
   "display_name": "quant",
   "language": "python",
   "name": "python3"
  },
  "language_info": {
   "codemirror_mode": {
    "name": "ipython",
    "version": 3
   },
   "file_extension": ".py",
   "mimetype": "text/x-python",
   "name": "python",
   "nbconvert_exporter": "python",
   "pygments_lexer": "ipython3",
   "version": "3.11.2"
  }
 },
 "nbformat": 4,
 "nbformat_minor": 2
}
