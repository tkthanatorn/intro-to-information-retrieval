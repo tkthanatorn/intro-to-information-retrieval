{
 "cells": [
  {
   "cell_type": "markdown",
   "metadata": {},
   "source": [
    "> Import dependencies for Hand-on 1"
   ]
  },
  {
   "cell_type": "code",
   "execution_count": 2,
   "metadata": {},
   "outputs": [],
   "source": [
    "import pandas as pd\n",
    "import string\n",
    "import requests\n",
    "from bs4 import BeautifulSoup\n",
    "import numpy as np"
   ]
  },
  {
   "cell_type": "markdown",
   "metadata": {},
   "source": [
    "> Read and clean `software_development_usa.csv` dataset"
   ]
  },
  {
   "cell_type": "code",
   "execution_count": 3,
   "metadata": {},
   "outputs": [],
   "source": [
    "def get_and_clean_data() -> pd.DataFrame:\n",
    "    data = pd.read_csv(\"../../data/software_development_usa.csv\")\n",
    "    description = data[\"job_description\"]\n",
    "    cleaned_description = description.apply(\n",
    "        lambda s: s.translate(str.maketrans(\"\", \"\", string.punctuation + \"\\xa0\"))\n",
    "    )\n",
    "    cleaned_description = cleaned_description.apply(lambda s: s.lower())\n",
    "    cleaned_description = cleaned_description.apply(\n",
    "        lambda s: s.translate(\n",
    "            str.maketrans(string.whitespace, \" \" * len(string.whitespace), \"\")\n",
    "        )\n",
    "    )\n",
    "    cleaned_description = cleaned_description.drop_duplicates()\n",
    "    return cleaned_description"
   ]
  },
  {
   "cell_type": "code",
   "execution_count": 4,
   "metadata": {},
   "outputs": [
    {
     "data": {
      "text/plain": [
       "0    the chosen sr software developer will be part ...\n",
       "1    position c lead software developer location mi...\n",
       "2    senior software developer hoboken nj starts as...\n",
       "3    our client a multinational publishing and educ...\n",
       "4    position c lead software developer location ph...\n",
       "Name: job_description, dtype: object"
      ]
     },
     "execution_count": 4,
     "metadata": {},
     "output_type": "execute_result"
    }
   ],
   "source": [
    "data = get_and_clean_data()\n",
    "data.head()"
   ]
  },
  {
   "cell_type": "markdown",
   "metadata": {},
   "source": [
    "> Tokenize the descriptions"
   ]
  },
  {
   "cell_type": "code",
   "execution_count": 5,
   "metadata": {},
   "outputs": [],
   "source": [
    "def simple_tokenize(data: pd.DataFrame) -> pd.DataFrame:\n",
    "    cleaned_description = data.apply(lambda s: [x.strip() for x in s.split()])\n",
    "    return cleaned_description"
   ]
  },
  {
   "cell_type": "code",
   "execution_count": 6,
   "metadata": {},
   "outputs": [
    {
     "data": {
      "text/plain": [
       "0    [the, chosen, sr, software, developer, will, b...\n",
       "1    [position, c, lead, software, developer, locat...\n",
       "2    [senior, software, developer, hoboken, nj, sta...\n",
       "3    [our, client, a, multinational, publishing, an...\n",
       "4    [position, c, lead, software, developer, locat...\n",
       "Name: job_description, dtype: object"
      ]
     },
     "execution_count": 6,
     "metadata": {},
     "output_type": "execute_result"
    }
   ],
   "source": [
    "data = simple_tokenize(data)\n",
    "data.head()"
   ]
  },
  {
   "cell_type": "markdown",
   "metadata": {},
   "source": [
    "> Combine `get_and_clean_data()` and `simple_tokenize()` into `parse_job_description()`"
   ]
  },
  {
   "cell_type": "code",
   "execution_count": 7,
   "metadata": {},
   "outputs": [],
   "source": [
    "def parse_job_description():\n",
    "    cleaned_description = get_and_clean_data()\n",
    "    cleaned_description = simple_tokenize(cleaned_description)\n",
    "    return cleaned_description"
   ]
  },
  {
   "cell_type": "code",
   "execution_count": 10,
   "metadata": {},
   "outputs": [
    {
     "name": "stderr",
     "output_type": "stream",
     "text": [
      "[nltk_data] Downloading package stopwords to\n",
      "[nltk_data]     /home/tkthanatorn/nltk_data...\n",
      "[nltk_data]   Package stopwords is already up-to-date!\n",
      "[nltk_data] Downloading package punkt to\n",
      "[nltk_data]     /home/tkthanatorn/nltk_data...\n",
      "[nltk_data]   Package punkt is already up-to-date!\n"
     ]
    }
   ],
   "source": [
    "import nltk\n",
    "\n",
    "nltk.download(\"stopwords\")\n",
    "nltk.download(\"punkt\")\n",
    "from nltk.corpus import stopwords\n",
    "from nltk.tokenize import word_tokenize\n",
    "from nltk.stem import PorterStemmer\n",
    "\n",
    "\n",
    "def inverse_indexing(data: pd.DataFrame):\n",
    "    sw_set = set(stopwords.words()) - {\"c\"}\n",
    "    no_sw_description = data.apply(lambda x: [w for w in x if w not in sw_set])\n",
    "    ps = PorterStemmer()\n",
    "    stemmed_description = no_sw_description.apply(\n",
    "        lambda x: set([ps.stem(w) for w in x])\n",
    "    )\n",
    "    all_unique_term = list(set.union(*stemmed_description.to_list()))\n",
    "\n",
    "    invert_index = {}\n",
    "    for s in all_unique_term:\n",
    "        invert_index[s] = set(stemmed_description.loc[stemmed_description.apply(lambda x: s in x)].index)\n",
    "    return invert_index"
   ]
  },
  {
   "cell_type": "code",
   "execution_count": 13,
   "metadata": {},
   "outputs": [],
   "source": [
    "def search(invert_index, query):\n",
    "    ps = PorterStemmer()\n",
    "    process_query = [s.lower() for s in query.split()]\n",
    "    stemmed = [ps.stem(s) for s in process_query]\n",
    "    matched = list(set.intersection(*[invert_index[s] for s in stemmed]))\n",
    "    return matched"
   ]
  },
  {
   "cell_type": "code",
   "execution_count": 14,
   "metadata": {},
   "outputs": [
    {
     "name": "stdout",
     "output_type": "stream",
     "text": [
      "|      | job_description                                                                                                                                                                                                                                                                                                                                                                                                                                                                                                                                                                                                                                                                                                                                                                                                                                                                                                                                                                                                                                                                                                                                                                                                                                                                                                                                                                                                                                                                                                                                                                                                                                                                                                                                                                                                                                                                                                                                                                                                                                                                                                                                                                                                                                                                                                                                                                                                                                                                                                                                                                                                                                                                                                                                                                                                                                                                                                                                                                                                                                                                                                                                                                                                                                                                                                                                                                                                                                                                                                                                                                                                                                                                                                                                                                                                                                                                                                                                                                                                                                                                                                                                                                                                                                                                                                                                                                                                                                                                                                                                                                                                                                                                                                                                                                                                                                                                                                                                                                                                                                                                                                                                                                              |\n",
      "|-----:|:---------------------------------------------------------------------------------------------------------------------------------------------------------------------------------------------------------------------------------------------------------------------------------------------------------------------------------------------------------------------------------------------------------------------------------------------------------------------------------------------------------------------------------------------------------------------------------------------------------------------------------------------------------------------------------------------------------------------------------------------------------------------------------------------------------------------------------------------------------------------------------------------------------------------------------------------------------------------------------------------------------------------------------------------------------------------------------------------------------------------------------------------------------------------------------------------------------------------------------------------------------------------------------------------------------------------------------------------------------------------------------------------------------------------------------------------------------------------------------------------------------------------------------------------------------------------------------------------------------------------------------------------------------------------------------------------------------------------------------------------------------------------------------------------------------------------------------------------------------------------------------------------------------------------------------------------------------------------------------------------------------------------------------------------------------------------------------------------------------------------------------------------------------------------------------------------------------------------------------------------------------------------------------------------------------------------------------------------------------------------------------------------------------------------------------------------------------------------------------------------------------------------------------------------------------------------------------------------------------------------------------------------------------------------------------------------------------------------------------------------------------------------------------------------------------------------------------------------------------------------------------------------------------------------------------------------------------------------------------------------------------------------------------------------------------------------------------------------------------------------------------------------------------------------------------------------------------------------------------------------------------------------------------------------------------------------------------------------------------------------------------------------------------------------------------------------------------------------------------------------------------------------------------------------------------------------------------------------------------------------------------------------------------------------------------------------------------------------------------------------------------------------------------------------------------------------------------------------------------------------------------------------------------------------------------------------------------------------------------------------------------------------------------------------------------------------------------------------------------------------------------------------------------------------------------------------------------------------------------------------------------------------------------------------------------------------------------------------------------------------------------------------------------------------------------------------------------------------------------------------------------------------------------------------------------------------------------------------------------------------------------------------------------------------------------------------------------------------------------------------------------------------------------------------------------------------------------------------------------------------------------------------------------------------------------------------------------------------------------------------------------------------------------------------------------------------------------------------------------------------------------------------------------------------------------------------|\n",
      "| 8197 | principal software developer at liberty mutual we give motivated accomplished professionals the opportunity to help us redefine what insurance means to work for a global leader with a deep sense of humanity and a focus on improving and protecting everyday lives we create an inspired collaborative environment where people can take ownership of their work push breakthrough ideas and feel confident that their contributions will be valued and their growth championed we’re dedicated to doing the right thing for our employees because we know that their fulfillment and success leads us to great places life happiness innovation impact advancement whatever their pursuit talented people find their path at liberty mutual about the job we are looking for an experienced leadershiporiented software engineer to join an agile squad on our agile release train in business lines you’ll be part of our global retail markets technology team supporting our small commercial policy administration system called ecliq enhanced commercial lines internet quote delivering technology solutions in support of our release train mission you will have the opportunity to leverage your leadership and mentoring skills while working with cloudbased technology to build tools and solutions used to support new and innovative insurance products you will architect solutions for the next generation technology solutions on a modern technology stack consisting of java spring boot angular pivotal cloud foundry and aws in this role you will drive a culture of innovation and learning while modeling the liberty mutual core behaviors use java spring boot and angular to develop cloudhosted api first web applications handle endtoend development including coding testing and debugging work with scrum masters product owners and peers to iteratively create software that meets business and technical requirements analyze defects and design and implement effective solutions create and maintain technical documentation develop automated tests for multiple scopes unit system integration regression partner with other developers to collectively grow and develop our software engineering technology skills highly competitive applicants will have the following experience driving platform modernization initiatives cloud deployment and technologies such as aws docker java nodejs spring boot familiarity with cicd and devops tools strong enterpriselevel software development experience in an objectoriented language preferably javaj2ee solid programming discipline unit testing fault tolerance data structures complexity analysis objectoriented principles design patterns etc oracle sql server db2 experience working in an agile environment scrum kanban xp etc is preferred an evident appreciation of current and emerging technology trends qualifications bachelors or masters degree in technical or business discipline or equivalent experience desire to see others grow in their ability experience in mentoring and coaching others in technology generally 7 years of professional experience in software development versed in diverse technologies and technical architecture principles and concepts including microservice architecture must be proactive demonstrate initiative and be a logical thinker extensive understanding of incremental delivery strong collaboration prioritization and adaptability skills benefits culture in grm us agent partner we embrace all of the values of our fortune 100 company and push our practices and technology skill sets to the next level in this organization we are an agile set of teams dedicated to helping impact the lives of thousands of customers every day we embrace a modern coworking style with exceptional worklife balance ergonomic work areas substantial benefits and bestinclass amenities liberty mutual is one of americas best employers for diversity and one of the best employers for women httpbitlylibertymutualbestplacestoworkforwomen one of the best employers for new grads httpbitlylibertymutualbestplacesfornewgrads and one of the best places to work httpbitlylibertymutualbestplacestowork we offer excellent benefits for our employees including generous parental leave retirement plans including 401k and pension education reimbursement commuter benefits college savings plans and much more to learn more about our benefit offerings and culture please visit httpslmicobenefits httpbitlylibertymutualculture eoe statement liberty mutual is an equal opportunity employer we embrace an environment that is free from all discrimination in the workplace in its business or by its vendors liberty mutual values diversity and the differences and similarities of our employees we foster a diverse and inclusive work environment that leads to better ideas stronger teams and more innovative products and services for our customers learn more                                                                                                                                         |\n",
      "|   10 | job summary biotelemetry provides realtime remote heart monitoring and analysis using our own innovative hardware and software products come join our team and have a positive impact on the lives of patients we are currently looking for a senior java software engineer with richclient experience to help in the design and development of the next generation of applications to support our current and future medical device products the senior java developer will design develop test document customize and implement software applications to support business requirements as well as current and future medical device products heshe will lead the development of business critical applications and new messaging frame work engine using the latest javajee and web technologies by following approved life cycle methodologies creating design documents and performing program coding and testing in addition to resolving technical issues through debugging research and investigation the incumbent will contribute as a strong handson technical member in project development activities the translation of requirements into system design specifications and the implementation of systems throughout the entire software development life cycle duties and responsibilities essential functions • maintaining and enhancing our current generation of software products used by physicians ecg technicians and internal business operations • develop java software modules using javajee and database related technologies manage and deliver enterprise level applications in a cloud web based distributed java jee environment • define architecture requirements and performance standards to meet or exceed management and customer specifications work closely with product development team to translate requirements into highquality timely deliverables • develop production ready clean unittested and refactored code in developing architectural roadmaps while providing expertise on the platform architecture • since this team provides software that supports a 247 operational support facility interaction with end users that includes live support is required • participate in design activities and own the development of the work assigned work closely with qa and integration team to resolve issues • perform other duties and responsibilities as assigned qualifications and education requirements • bachelor’s degree in computer science software engineering or similar field or equivalent combination of education and experience • five 5 or more years’ experience designing developing and debugging distributed java web applications • strong experience with ormopen source frameworks hibernate core java and spring framework ie spring mvc spring data spring security and j2ee platform including ejb jms servlets and jsp • hands on experience in databases such as sql server mysql demonstrated proficiency in writing complex db queries and performing sql analysis and tuning • experience with latest messaging technologies ie rabbit mq tibco • solid grasp of architectural design patterns particularly as it applies to scaling web services • experience with integrated development environments ie intellij eclipse • experience with versioning and revision control systems ie subversion • experience with web services ie restsoap • experience with agile methodologies and in designing software solutions comfortable with agile development practices such as unit tests and code reviews • ability to effectively communicate and collaborate with business stakeholders • demonstrated process organization and collaborative skills and ability to work well within a team • selfstarter with the ability to handle multiple tasks and priorities within a fastpaced work environment additional preferred technical skills • development languages eg c javajee scripting and other languages eg sh csh bash ksh python javascript uml ajax json xml html html5 css jquery andor perl • experience with installation and administration of application servers ie weblogic jboss tomcat glass fish wildfly • experience with build automation tools ie maven ant • experience with relational database concepts such as oracle udb sql server data modeling administration ie dml ddl • experience with configuration management tools ie jira clearcase subversion andor git • experience with continuous integration and build systems ie jenkins fisheye cruisecontrol bamboo nexus • database tools and design eg oracle postgres sql mongodb allegrograph nosql allegrograph rdf andor sparql biotelemetry services is an equal opportunity employer all qualified applicants will receive consideration for employment without regard to age color national origin citizenship status physical or mental disability race religion creed gender sex sexual orientation gender identity andor expression genetic information marital status status with regard to public assistance veteran status or any other characteristic protected by federal state or local law dce sg cb |\n",
      "| 4108 | 45 55 an hour contract responsible for the technical evaluation design coding testing and documentation of complex corporate solutions built on third party software products this involves review of functional requirements gathered by business analysts creation of technical specifications development according to specification use cases the engineer will also support the implementation project by troubleshooting system configuration product installation and other technical issues both internally and for clients technical skills experience strong experience in java sql plsql strong experience xml java script html strong understanding web services soap and restful services experience in subversion code repository maven build tool knowledge in j2ee technologies spring hibernate dependency injection experience in application server like tomcat experience database skills in oracle and ms sql server data migration experience bi tools experience willing to work with minimum guidance and learn new technologies as required job types fulltime contract salary 4500 to 5500 hour experience java 5 years required j2ee 4 years required sql 4 years required work authorization united states required responsible for the technical evaluation design coding testing and documentation of complex corporate solutions built on third party software products this involves review of functional requirements gathered by business analysts creation of technical specifications development according to specification use cases the engineer will also support the implementation project by troubleshooting system configuration product installation and other technical issues both internally and for clients technical skills experience strong experience in java sql plsql strong experience xml java script html strong understanding web services soap and restful services experience in subversion code repository maven build tool knowledge in j2ee technologies spring hibernate dependency injection experience in application server like tomcat experience database skills in oracle and ms sql server data migration experience bi tools experience willing to work with minimum guidance and learn new technologies as required job types fulltime contract salary 4500 to 5500 hour experience java 5 years required j2ee 4 years required sql 4 years required work authorization united states required                                                                                                                                                                                                                                                                                                                                                                                                                                                                                                                                                                                                                                                                                                                                                                                                                                                                                                                                                                                                                                                                                                                                                                                                                                                                                                                                                                                                                                                                                                                                                                                                                                                                                                                                                                                                                                                                                                                                                                                                                                                                                                                                                                                                                                                                                                                                                                                                                                                                                                                                                                                                                                                                                                                     |\n",
      "|   16 | read what people are saying about working here company department description swift provides the platform messaging standards and products services to over 10500 customers in 215 countries and territories our employees are the foundation of this success swift has an unique corporate mindset where diversity personal development and networking are actively encouraged and we think youll like our office culture built around the way we work to achieve a healthier worklife balance if you want to be part of our dynamic multicultural institution with over 2400 employees of 75 nationalities in 26 offices worldwide then explore the vast opportunities rewards and internationally competitive packages that we are waiting for you here at swift responsibilities your responsibilities will be to design develop integrate third party components test install and support programssystems analyse detailed system factors inputoutput requirements information flow hardwaresoftware requirements kernel settings etc… evaluate and recommend technical feasibility and estimates of the proposed solutions participate in the definition and implementation of software components in collaboration with third party software providers prepare operating procedures provide technical assistance to colleagues and assist in resolving problems reported by other team members develop and maintain technical documentation and prepare and give presentations to customers on systems where appropriate write system documentation and operating procedures supporte the delivered software and become part of a center of expertise problem solving team qualifications education university degree in information technology or equivalent work experience experience 1 to 2 years of experience in systems development professional knowledge and expertise the candidate should have had relevant exposure to the development of highly scalable resilient and secure software technical skills oo programming techniques design patterns c techniques memory management multiprocessing multithreading clustering shell scripting kornshell perl tcl static and dynamic libraries cc compilers linkers debuggers profilers java knowledge is an asset exposure to various os platforms windows unix oracle solaris aix hpux linux redhat common development on multiplatform and vm environment ipc and kernel settings management network protocols tcpip ssltls https udp snmp communication middleware web technologies web services soap ibm websphere mq is an asset xml parsing methods xml schema xslt xpath database technologies oracle cassandra security technologies pki hmac aes digest algorithms ssl hardware tokens hsm software development environments and tools configuration management clearcase integrated development environment visual studio or eclipse change management familiarity with development and integration using swift interfaces products for swiftnet interact fileact fin and swiftnet browse is a strong asset soft skills adaptability and responsiveness to change take accountability for delivering results strong communication skills both written and oral planning and organising quality orientation team orientation open communication                                                                                                                                                                                                                                                                                                                                                                                                                                                                                                                                                                                                                                                                                                                                                                                                                                                                                                                                                                                                                                                                                                                                                                                                                                                                                                                                                                                                                                                                                                                                                                                                                                                                                                                                                                                                                                                                    |\n",
      "| 2064 | read what people are saying about working here gdit is seeking a java software engineer to support a large identity and access management idam contract the java software developer will be working in a multitiered environment and will build java applications for a government client the java developer will configure and modifyintegrate cots products related to identity and access management areas where needed the candidate for this position will build restful web services and reusable components to support overall project objectives the java developer will participate in the entire software development lifecycle including unit testing regression testing deployment and automation researches designs develops andor modifies enterprisewide systems andor applications software education babs in computer science or related field qualifications 10 years of relevant experience required skillsexperience ability to develop and enhance java applications aligned with architecture and platforms proposed for existing and new software experience with overall java development methodologies to perform routine development automated unit testing and troubleshooting tasks experience with jsf development cots integration experience experience building web services experience with oracle and sqlserver familiarity with integration tools such as jenkins and git willingness to learn new tools and techniques to complete tasks principals of lightweight directory access protocol ldap principals of public key infrastructure pki and public key enabling pke developing and revising technical documentation participates in special projects as required desired skillsexperience familiarity with identity and access management technology and tools familiarity with configuration management tools such as puppet familiarity with application migration and development in aws familiarity with developing messageoriented solutions with java general linux management through the command line and use of command line text editor familiarity with radiant logic icsvds familiarity with sailpoint servicenow benefits of this position opportunity for fast growth within the program onsite gym – get your workout in before work during your lunch break or at the end of the day professional development assistance – covering the cost of obtaining professional technical certifications depending on program educational reimbursement – toward degree programs and individual coursework 401k match – with 100 vesting on day one health dental and vision coverage to keep you healthy starting your first day we know worklife balance is important gdit offers paid time off plus 10 paid holidays parking and transit commuter benefits why work at general dynamics it work with top talent and some of the brightest minds in your field support missions that make a difference to our nation become part of an organization that that is committed to the highest ethical standards in all that we do thrive in the stability of a large organization with the ability to move onto new opportunities supporting different missions building your career within gdit want to move or find a job close to home we have positions in several locations in the united states and the world enjoy a culture that supports worklife balance general dynamics is a fortune blue ribbon company and clearance jobs top 10 government contractor about general dynamics information technology solves our customers’ challenges through futurefocused technology and services ingenuity and deep missionknowledge partnering with government defense the intelligence community industry leaders and cuttingedge technology companies we deliver solutions that make a difference – helping our customers to advance mission performance transform operations and discover opportunities to build a better future isdcj dpost general dynamics information technology solves our customers’ biggest challenges through smart futurefocused technology and services i                                                                                                                                                                                                                                                                                                                                                                                                                                                                                                                                                                                                                                                                                                                                                                                                                                                                                                                                                                                                                                                      |\n"
     ]
    }
   ],
   "source": [
    "data = parse_job_description()\n",
    "invert_index = inverse_indexing(data)\n",
    "query = \"java oracle\"\n",
    "matched = search(invert_index, query)\n",
    "print(\n",
    "    parse_job_description()\n",
    "    .loc[matched]\n",
    "    .apply(lambda x: \" \".join(x))\n",
    "    .head()\n",
    "    .to_markdown()\n",
    ")"
   ]
  },
  {
   "cell_type": "code",
   "execution_count": null,
   "metadata": {},
   "outputs": [],
   "source": []
  }
 ],
 "metadata": {
  "kernelspec": {
   "display_name": "quant",
   "language": "python",
   "name": "python3"
  },
  "language_info": {
   "codemirror_mode": {
    "name": "ipython",
    "version": 3
   },
   "file_extension": ".py",
   "mimetype": "text/x-python",
   "name": "python",
   "nbconvert_exporter": "python",
   "pygments_lexer": "ipython3",
   "version": "3.11.2"
  }
 },
 "nbformat": 4,
 "nbformat_minor": 2
}
