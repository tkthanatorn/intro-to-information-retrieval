{
 "cells": [
  {
   "cell_type": "markdown",
   "metadata": {},
   "source": [
    "> Import and Preprocessing dataset"
   ]
  },
  {
   "cell_type": "code",
   "execution_count": 1,
   "metadata": {},
   "outputs": [],
   "source": [
    "import pandas as pd\n",
    "import string\n",
    "import requests\n",
    "from bs4 import BeautifulSoup\n",
    "import numpy as np"
   ]
  },
  {
   "cell_type": "code",
   "execution_count": 7,
   "metadata": {},
   "outputs": [],
   "source": [
    "def get_and_clean_data() -> pd.DataFrame:\n",
    "    data = pd.read_csv(\"../../data/software_development_usa.csv\")\n",
    "    description = data[\"job_description\"]\n",
    "    cleaned_description = description.apply(\n",
    "        lambda s: s.translate(str.maketrans(\"\", \"\", string.punctuation + \"\\xa0\"))\n",
    "    )\n",
    "    cleaned_description = cleaned_description.apply(lambda s: s.lower())\n",
    "    cleaned_description = cleaned_description.apply(\n",
    "        lambda s: s.translate(\n",
    "            str.maketrans(string.whitespace, \" \" * len(string.whitespace), \"\")\n",
    "        )\n",
    "    )\n",
    "    cleaned_description = cleaned_description.drop_duplicates()\n",
    "    return cleaned_description"
   ]
  },
  {
   "cell_type": "code",
   "execution_count": 8,
   "metadata": {},
   "outputs": [],
   "source": [
    "def simple_tokenize(data: pd.DataFrame) -> pd.DataFrame:\n",
    "    cleaned_description = data.apply(lambda s: [x.strip() for x in s.split()])\n",
    "    return cleaned_description"
   ]
  },
  {
   "cell_type": "code",
   "execution_count": 9,
   "metadata": {},
   "outputs": [],
   "source": [
    "def parse_job_description():\n",
    "    cleaned_description = get_and_clean_data()\n",
    "    cleaned_description = simple_tokenize(cleaned_description)\n",
    "    return cleaned_description"
   ]
  },
  {
   "cell_type": "code",
   "execution_count": 10,
   "metadata": {},
   "outputs": [],
   "source": [
    "def parse_db() -> list[list[str]]:\n",
    "    html_doc = requests.get(\"https://db-engines.com/en/ranking\").content\n",
    "    soup = BeautifulSoup(html_doc, \"html.parser\")\n",
    "    db_table = soup.find(\"table\", {\"class\": \"dbi\"})\n",
    "    all_db = [\n",
    "        \"\".join(s.find(\"a\").findAll(text=True, recursive=True)).strip()\n",
    "        for s in db_table.findAll(\"th\", {\"class\": \"pad-l\"})\n",
    "    ]\n",
    "    all_db = list(dict.fromkeys(all_db))\n",
    "    db_list = all_db[:10]\n",
    "    db_list = [s.lower() for s in db_list]\n",
    "    db_list = [[[x.strip() for x in s.split()][0]] for s in db_list]\n",
    "    return db_list"
   ]
  },
  {
   "cell_type": "code",
   "execution_count": 11,
   "metadata": {},
   "outputs": [
    {
     "name": "stderr",
     "output_type": "stream",
     "text": [
      "/tmp/ipykernel_66518/4149286022.py:6: DeprecationWarning: The 'text' argument to find()-type methods is deprecated. Use 'string' instead.\n",
      "  \"\".join(s.find(\"a\").findAll(text=True, recursive=True)).strip()\n"
     ]
    }
   ],
   "source": [
    "cleaned_db = parse_db()\n",
    "parsed_description = parse_job_description()"
   ]
  },
  {
   "cell_type": "markdown",
   "metadata": {},
   "source": [
    "##### What DB should I learn after Java?\n",
    "Oracle is the database that you should learn after Java."
   ]
  },
  {
   "cell_type": "code",
   "execution_count": 12,
   "metadata": {},
   "outputs": [
    {
     "name": "stdout",
     "output_type": "stream",
     "text": [
      "oracle + java: 913 of 7583\n",
      "mysql + java: 397 of 7583\n",
      "microsoft + java: 448 of 7583\n",
      "postgresql + java: 161 of 7583\n",
      "mongodb + java: 166 of 7583\n",
      "redis + java: 40 of 7583\n",
      "elasticsearch + java: 112 of 7583\n",
      "ibm + java: 135 of 7583\n",
      "sqlite + java: 5 of 7583\n",
      "microsoft + java: 448 of 7583\n"
     ]
    }
   ],
   "source": [
    "with_oracle: list[pd.DataFrame] = [None] * len(cleaned_db)\n",
    "for i, db in enumerate(cleaned_db):\n",
    "    with_oracle[i] = parsed_description.apply(\n",
    "        lambda s: np.all([x in s for x in db]) and \"java\" in s\n",
    "    ).sum()\n",
    "\n",
    "    print(\n",
    "        \" \".join(db)\n",
    "        + \" + java: \"\n",
    "        + str(with_oracle[i])\n",
    "        + \" of \"\n",
    "        + str(parsed_description.shape[0])\n",
    "    )"
   ]
  },
  {
   "cell_type": "markdown",
   "metadata": {},
   "source": [
    "##### Which DB is in demand alongside oracle?\n",
    "MySQL is the DB that you should learn alongside oracle."
   ]
  },
  {
   "cell_type": "code",
   "execution_count": 13,
   "metadata": {},
   "outputs": [
    {
     "name": "stdout",
     "output_type": "stream",
     "text": [
      "mysql + oracle: 312 of 7583\n",
      "microsoft + oracle: 282 of 7583\n",
      "postgresql + oracle: 100 of 7583\n",
      "mongodb + oracle: 104 of 7583\n",
      "redis + oracle: 12 of 7583\n",
      "elasticsearch + oracle: 32 of 7583\n",
      "ibm + oracle: 84 of 7583\n",
      "sqlite + oracle: 17 of 7583\n",
      "microsoft + oracle: 282 of 7583\n"
     ]
    }
   ],
   "source": [
    "with_oracle: list[pd.DataFrame] = [None] * len(cleaned_db)\n",
    "for i, db in enumerate(cleaned_db):\n",
    "    if db[0] == \"oracle\":\n",
    "        continue\n",
    "\n",
    "    with_oracle[i] = parsed_description.apply(\n",
    "        lambda s: np.all([x in s for x in db]) and \"oracle\" in s\n",
    "    ).sum()\n",
    "\n",
    "    print(\n",
    "        \" \".join(db)\n",
    "        + \" + oracle: \"\n",
    "        + str(with_oracle[i])\n",
    "        + \" of \"\n",
    "        + str(parsed_description.shape[0])\n",
    "    )"
   ]
  },
  {
   "cell_type": "markdown",
   "metadata": {},
   "source": [
    "#### What programming language is in demand alongside python?\n",
    "Java is the programming language is in demand alongside python."
   ]
  },
  {
   "cell_type": "code",
   "execution_count": 14,
   "metadata": {},
   "outputs": [
    {
     "name": "stdout",
     "output_type": "stream",
     "text": [
      "java + python: 830 of 7583\n",
      "c + python: 689 of 7583\n",
      "kotlin + python: 6 of 7583\n",
      "swift + python: 37 of 7583\n",
      "rust + python: 6 of 7583\n",
      "ruby + python: 181 of 7583\n",
      "scala + python: 76 of 7583\n",
      "julia + python: 1 of 7583\n",
      "lua + python: 11 of 7583\n"
     ]
    }
   ],
   "source": [
    "langs = [\n",
    "    [\"java\"],\n",
    "    [\"python\"],\n",
    "    [\"c\"],\n",
    "    [\"kotlin\"],\n",
    "    [\"swift\"],\n",
    "    [\"rust\"],\n",
    "    [\"ruby\"],\n",
    "    [\"scala\"],\n",
    "    [\"julia\"],\n",
    "    [\"lua\"],\n",
    "]\n",
    "\n",
    "with_python: list[pd.DataFrame] = [None] * len(langs)\n",
    "for i, db in enumerate(langs):\n",
    "    if db[0] == \"python\":\n",
    "        continue\n",
    "\n",
    "    with_oracle[i] = parsed_description.apply(\n",
    "        lambda s: np.all([x in s for x in db]) and \"python\" in s\n",
    "    ).sum()\n",
    "\n",
    "    print(\n",
    "        \" \".join(db)\n",
    "        + \" + python: \"\n",
    "        + str(with_oracle[i])\n",
    "        + \" of \"\n",
    "        + str(parsed_description.shape[0])\n",
    "    )"
   ]
  },
  {
   "cell_type": "code",
   "execution_count": null,
   "metadata": {},
   "outputs": [],
   "source": []
  }
 ],
 "metadata": {
  "kernelspec": {
   "display_name": "quant",
   "language": "python",
   "name": "python3"
  },
  "language_info": {
   "codemirror_mode": {
    "name": "ipython",
    "version": 3
   },
   "file_extension": ".py",
   "mimetype": "text/x-python",
   "name": "python",
   "nbconvert_exporter": "python",
   "pygments_lexer": "ipython3",
   "version": "3.11.2"
  }
 },
 "nbformat": 4,
 "nbformat_minor": 2
}
