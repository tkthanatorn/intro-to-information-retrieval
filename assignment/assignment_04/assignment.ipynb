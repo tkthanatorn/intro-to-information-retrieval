{
 "cells": [
  {
   "cell_type": "markdown",
   "metadata": {},
   "source": [
    "## Assignment 4\n",
    "#### Instruction\n",
    "Utilizing the methodology outlined in this chapter, demonstrate the process of ranking spelling correction candidates for a single mistyped word. Your task involves the following key components:\n",
    "- Choose a word that is misspelled, ensuring that all candidate corrections are only one edit distance away from this selected word.\n",
    "- Generate at least four viable candidates for spelling correction. These candidates should be closely related to your chosen mistyped word, differing by only a single edit in spelling.\n",
    "- Initially, apply the IULA to automate the ranking process as much as possible. Analyze how each candidate ranks in terms of likelihood of being the correct spelling correction.\n",
    "- Extract a different corpus -- Apply the same counting technique you used with Norvig's approach to a new corpus rather than IULA."
   ]
  },
  {
   "cell_type": "code",
   "execution_count": 100,
   "metadata": {},
   "outputs": [
    {
     "name": "stderr",
     "output_type": "stream",
     "text": [
      "[nltk_data] Downloading package stopwords to\n",
      "[nltk_data]     /home/tkthanatorn/nltk_data...\n",
      "[nltk_data]   Package stopwords is already up-to-date!\n",
      "[nltk_data] Downloading package punkt to\n",
      "[nltk_data]     /home/tkthanatorn/nltk_data...\n",
      "[nltk_data]   Package punkt is already up-to-date!\n"
     ]
    }
   ],
   "source": [
    "import pandas as pd\n",
    "import numpy as np\n",
    "import re\n",
    "import os\n",
    "import string\n",
    "from ordered_set import OrderedSet\n",
    "from sklearn.feature_extraction.text import CountVectorizer\n",
    "\n",
    "import nltk\n",
    "nltk.download(\"stopwords\")\n",
    "nltk.download(\"punkt\")\n",
    "from nltk.corpus import stopwords\n",
    "from nltk.tokenize import word_tokenize, sent_tokenize\n",
    "from nltk.stem import PorterStemmer"
   ]
  },
  {
   "cell_type": "markdown",
   "metadata": {},
   "source": [
    "#### IULA Corpus"
   ]
  },
  {
   "cell_type": "code",
   "execution_count": 101,
   "metadata": {},
   "outputs": [],
   "source": [
    "topdir = \"../../data/iula\"\n",
    "all_content = []\n",
    "for dirpath, dirname, filename in os.walk(topdir):\n",
    "    for name in filename:\n",
    "        if name.endswith(\"plain.txt\"):\n",
    "            with open(os.path.join(dirpath, name)) as f:\n",
    "                all_content.append(f.read())"
   ]
  },
  {
   "cell_type": "code",
   "execution_count": 102,
   "metadata": {},
   "outputs": [],
   "source": [
    "def preProcess(texts: list[str], stop_dict: dict) -> list[str]:\n",
    "    data = [\n",
    "        s.translate(str.maketrans(\"\", \"\", string.punctuation + \"\\xa0\")) for s in texts\n",
    "    ]\n",
    "    data = [s.lower() for s in data]\n",
    "    data = [\n",
    "        s.translate(str.maketrans(string.whitespace, \" \" * len(string.whitespace), \"\"))\n",
    "        for s in data\n",
    "    ]\n",
    "\n",
    "    tokenized = [word_tokenize(s) for s in data]\n",
    "    concatenated = np.unique(np.concatenate(tokenized))\n",
    "    stem_cache = {}\n",
    "    ps = PorterStemmer()\n",
    "    for s in concatenated:\n",
    "        stem_cache[s] = ps.stem(s)\n",
    "    \n",
    "    def custom_processor(s: str):\n",
    "        ps = PorterStemmer()\n",
    "        s = re.sub(r\"[^A-Za-z]\", \" \", s)\n",
    "        s = re.sub(r\"\\s+\", \" \", s)\n",
    "        s = word_tokenize(s)\n",
    "        s = list(OrderedSet(s) - stop_dict)\n",
    "        s = [word for word in s if len(word) > 2]\n",
    "        s = [stem_cache[w] if w in stem_cache else ps.stem(w) for w in s]\n",
    "        s = \" \".join(s)\n",
    "        return s\n",
    "\n",
    "    data = [custom_processor(s) for s in data]\n",
    "    return data\n",
    "\n",
    "stop_dict = set(stopwords.words(\"english\"))\n",
    "preprocessed = preProcess(all_content, stop_dict)"
   ]
  },
  {
   "cell_type": "markdown",
   "metadata": {},
   "source": [
    "##### Generate candidate function"
   ]
  },
  {
   "cell_type": "code",
   "execution_count": 103,
   "metadata": {},
   "outputs": [],
   "source": [
    "def generate_candidates(word):\n",
    "    letters = 'abcdefghijklmnopqrstuvwxyz'\n",
    "    splits = [(word[:i], word[i:]) for i in range(len(word) + 1)]\n",
    "    deletes = [L + R[1:] for L, R in splits if R]\n",
    "    swaps = [L + R[1] + R[0] + R[2:] for L, R in splits if len(R)>1]\n",
    "    replaces = [L + c + R[1:] for L, R in splits if R for c in letters]\n",
    "    inserts = [L + c + R for L, R in splits for c in letters]\n",
    "    return set(deletes + swaps + replaces + inserts)"
   ]
  },
  {
   "cell_type": "markdown",
   "metadata": {},
   "source": [
    "generate candidate words that are one edit distance"
   ]
  },
  {
   "cell_type": "code",
   "execution_count": 104,
   "metadata": {},
   "outputs": [
    {
     "data": {
      "text/plain": [
       "['development', 'developmfnt', 'dlevelopment', 'dzvelopment']"
      ]
     },
     "execution_count": 104,
     "metadata": {},
     "output_type": "execute_result"
    }
   ],
   "source": [
    "word = \"development\"\n",
    "candidates = list(generate_candidates(word))[:4]\n",
    "candidates[0] = word\n",
    "candidates"
   ]
  },
  {
   "cell_type": "markdown",
   "metadata": {},
   "source": [
    "fit and transform IULA corpus with CountVectorizer model"
   ]
  },
  {
   "cell_type": "code",
   "execution_count": 105,
   "metadata": {},
   "outputs": [
    {
     "data": {
      "text/plain": [
       "aaa        1\n",
       "aaaaaa     1\n",
       "aalborg    2\n",
       "aarhu      1\n",
       "aaron      3\n",
       "dtype: int64"
      ]
     },
     "execution_count": 105,
     "metadata": {},
     "output_type": "execute_result"
    }
   ],
   "source": [
    "vectorizer = CountVectorizer()\n",
    "frequency = vectorizer.fit_transform(preprocessed)\n",
    "frequency = pd.DataFrame(frequency.todense(), columns=vectorizer.get_feature_names_out()).sum()\n",
    "frequency.head()"
   ]
  },
  {
   "cell_type": "markdown",
   "metadata": {},
   "source": [
    "transform the candidates words with processed model"
   ]
  },
  {
   "cell_type": "code",
   "execution_count": 106,
   "metadata": {},
   "outputs": [
    {
     "data": {
      "text/plain": [
       "development     22\n",
       "developmfnt      0\n",
       "dlevelopment     0\n",
       "dzvelopment      0\n",
       "dtype: int64"
      ]
     },
     "execution_count": 106,
     "metadata": {},
     "output_type": "execute_result"
    }
   ],
   "source": [
    "transformed_candidates = [\n",
    "    vectorizer.inverse_transform(vectorizer.transform([candidate]))\n",
    "    for candidate in candidates\n",
    "]\n",
    "\n",
    "transformed_frequency = pd.Series(\n",
    "    [\n",
    "        frequency.T.loc[tq[0]].values[0] if len(tq[0]) > 0 else 0\n",
    "        for tq in transformed_candidates\n",
    "    ],\n",
    "    index=candidates,\n",
    ")\n",
    "\n",
    "transformed_frequency.head()"
   ]
  },
  {
   "cell_type": "markdown",
   "metadata": {},
   "source": [
    "ranking the candidate words"
   ]
  },
  {
   "cell_type": "code",
   "execution_count": 107,
   "metadata": {},
   "outputs": [
    {
     "data": {
      "text/html": [
       "<div>\n",
       "<style scoped>\n",
       "    .dataframe tbody tr th:only-of-type {\n",
       "        vertical-align: middle;\n",
       "    }\n",
       "\n",
       "    .dataframe tbody tr th {\n",
       "        vertical-align: top;\n",
       "    }\n",
       "\n",
       "    .dataframe thead th {\n",
       "        text-align: right;\n",
       "    }\n",
       "</style>\n",
       "<table border=\"1\" class=\"dataframe\">\n",
       "  <thead>\n",
       "    <tr style=\"text-align: right;\">\n",
       "      <th></th>\n",
       "      <th>frequency</th>\n",
       "      <th>P(w)</th>\n",
       "      <th>rank</th>\n",
       "    </tr>\n",
       "  </thead>\n",
       "  <tbody>\n",
       "    <tr>\n",
       "      <th>development</th>\n",
       "      <td>22</td>\n",
       "      <td>1.0</td>\n",
       "      <td>1</td>\n",
       "    </tr>\n",
       "    <tr>\n",
       "      <th>developmfnt</th>\n",
       "      <td>0</td>\n",
       "      <td>0.0</td>\n",
       "      <td>3</td>\n",
       "    </tr>\n",
       "    <tr>\n",
       "      <th>dlevelopment</th>\n",
       "      <td>0</td>\n",
       "      <td>0.0</td>\n",
       "      <td>3</td>\n",
       "    </tr>\n",
       "    <tr>\n",
       "      <th>dzvelopment</th>\n",
       "      <td>0</td>\n",
       "      <td>0.0</td>\n",
       "      <td>3</td>\n",
       "    </tr>\n",
       "  </tbody>\n",
       "</table>\n",
       "</div>"
      ],
      "text/plain": [
       "              frequency  P(w)  rank\n",
       "development          22   1.0     1\n",
       "developmfnt           0   0.0     3\n",
       "dlevelopment          0   0.0     3\n",
       "dzvelopment           0   0.0     3"
      ]
     },
     "execution_count": 107,
     "metadata": {},
     "output_type": "execute_result"
    }
   ],
   "source": [
    "IULA = pd.DataFrame(transformed_frequency, columns=[\"frequency\"])\n",
    "IULA_TOTAL_FREQUENCY = IULA[\"frequency\"].sum()\n",
    "IULA[\"P(w)\"] = IULA[\"frequency\"] / IULA_TOTAL_FREQUENCY\n",
    "IULA[\"rank\"] = IULA[\"frequency\"].rank(ascending=False).astype(int)\n",
    "\n",
    "IULA.head()"
   ]
  },
  {
   "cell_type": "markdown",
   "metadata": {},
   "source": [
    "#### Norvig Corpus"
   ]
  },
  {
   "cell_type": "code",
   "execution_count": 108,
   "metadata": {},
   "outputs": [],
   "source": [
    "norvig_path = \"../../data/norvig.txt\"\n",
    "norvig = []\n",
    "with open(norvig_path) as f:\n",
    "    norvig = sent_tokenize(f.read())\n",
    "\n",
    "norvig = preProcess(norvig, stop_dict)"
   ]
  },
  {
   "cell_type": "code",
   "execution_count": 121,
   "metadata": {},
   "outputs": [
    {
     "data": {
      "text/plain": [
       "['prize', 'wprize', 'prbze', 'priuze']"
      ]
     },
     "execution_count": 121,
     "metadata": {},
     "output_type": "execute_result"
    }
   ],
   "source": [
    "word = \"prize\"\n",
    "candidates = list(generate_candidates(word))[:4]\n",
    "candidates[0] = word\n",
    "candidates"
   ]
  },
  {
   "cell_type": "code",
   "execution_count": 122,
   "metadata": {},
   "outputs": [
    {
     "data": {
      "text/plain": [
       "aaron       1\n",
       "abandon     6\n",
       "abat        1\n",
       "abbot       1\n",
       "aberdeen    2\n",
       "dtype: int64"
      ]
     },
     "execution_count": 122,
     "metadata": {},
     "output_type": "execute_result"
    }
   ],
   "source": [
    "norvig_vectorizer = CountVectorizer()\n",
    "norvig_frequency = norvig_vectorizer.fit_transform(norvig)\n",
    "norvig_frequency = pd.DataFrame(norvig_frequency.todense(), columns=norvig_vectorizer.get_feature_names_out())\n",
    "norvig_frequency = norvig_frequency.sum()\n",
    "norvig_frequency.head()"
   ]
  },
  {
   "cell_type": "code",
   "execution_count": 123,
   "metadata": {},
   "outputs": [
    {
     "data": {
      "text/plain": [
       "prize     5\n",
       "wprize    0\n",
       "prbze     0\n",
       "priuze    0\n",
       "dtype: int64"
      ]
     },
     "execution_count": 123,
     "metadata": {},
     "output_type": "execute_result"
    }
   ],
   "source": [
    "norvig_transformed_candidates = [\n",
    "    norvig_vectorizer.inverse_transform(norvig_vectorizer.transform([candidate]))\n",
    "    for candidate in candidates\n",
    "]\n",
    "\n",
    "norvig_transformed_frequency = pd.Series(\n",
    "    [\n",
    "        norvig_frequency.T.loc[tq[0]].values[0] if len(tq[0]) > 0 else 0\n",
    "        for tq in norvig_transformed_candidates\n",
    "    ],\n",
    "    index=candidates,\n",
    ")\n",
    "\n",
    "norvig_transformed_frequency.head()"
   ]
  },
  {
   "cell_type": "code",
   "execution_count": 124,
   "metadata": {},
   "outputs": [
    {
     "data": {
      "text/html": [
       "<div>\n",
       "<style scoped>\n",
       "    .dataframe tbody tr th:only-of-type {\n",
       "        vertical-align: middle;\n",
       "    }\n",
       "\n",
       "    .dataframe tbody tr th {\n",
       "        vertical-align: top;\n",
       "    }\n",
       "\n",
       "    .dataframe thead th {\n",
       "        text-align: right;\n",
       "    }\n",
       "</style>\n",
       "<table border=\"1\" class=\"dataframe\">\n",
       "  <thead>\n",
       "    <tr style=\"text-align: right;\">\n",
       "      <th></th>\n",
       "      <th>frequency</th>\n",
       "      <th>P(w)</th>\n",
       "      <th>rank</th>\n",
       "    </tr>\n",
       "  </thead>\n",
       "  <tbody>\n",
       "    <tr>\n",
       "      <th>prize</th>\n",
       "      <td>5</td>\n",
       "      <td>1.0</td>\n",
       "      <td>1</td>\n",
       "    </tr>\n",
       "    <tr>\n",
       "      <th>wprize</th>\n",
       "      <td>0</td>\n",
       "      <td>0.0</td>\n",
       "      <td>3</td>\n",
       "    </tr>\n",
       "    <tr>\n",
       "      <th>prbze</th>\n",
       "      <td>0</td>\n",
       "      <td>0.0</td>\n",
       "      <td>3</td>\n",
       "    </tr>\n",
       "    <tr>\n",
       "      <th>priuze</th>\n",
       "      <td>0</td>\n",
       "      <td>0.0</td>\n",
       "      <td>3</td>\n",
       "    </tr>\n",
       "  </tbody>\n",
       "</table>\n",
       "</div>"
      ],
      "text/plain": [
       "        frequency  P(w)  rank\n",
       "prize           5   1.0     1\n",
       "wprize          0   0.0     3\n",
       "prbze           0   0.0     3\n",
       "priuze          0   0.0     3"
      ]
     },
     "execution_count": 124,
     "metadata": {},
     "output_type": "execute_result"
    }
   ],
   "source": [
    "NORVIG = pd.DataFrame(norvig_transformed_frequency, columns=[\"frequency\"])\n",
    "NORVIG_TOTAL_FREQUENCY = NORVIG[\"frequency\"].sum()\n",
    "NORVIG[\"P(w)\"] = NORVIG[\"frequency\"] / NORVIG_TOTAL_FREQUENCY\n",
    "NORVIG[\"rank\"] = NORVIG[\"frequency\"].rank(ascending=False).astype(int)\n",
    "\n",
    "NORVIG.head()"
   ]
  }
 ],
 "metadata": {
  "kernelspec": {
   "display_name": "quant",
   "language": "python",
   "name": "python3"
  },
  "language_info": {
   "codemirror_mode": {
    "name": "ipython",
    "version": 3
   },
   "file_extension": ".py",
   "mimetype": "text/x-python",
   "name": "python",
   "nbconvert_exporter": "python",
   "pygments_lexer": "ipython3",
   "version": "3.11.2"
  }
 },
 "nbformat": 4,
 "nbformat_minor": 2
}
